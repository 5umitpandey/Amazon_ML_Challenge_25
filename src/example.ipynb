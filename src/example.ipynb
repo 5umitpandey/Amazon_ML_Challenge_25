import os
import pandas as pd 
import numpy as np


DATASET_FOLDER = '../dataset/'
train = pd.read_csv(os.path.join(DATASET_FOLDER, 'train.csv'))
test = pd.read_csv(os.path.join(DATASET_FOLDER, 'test.csv'))
sample_test = pd.read_csv(os.path.join(DATASET_FOLDER, 'sample_test.csv'))
sample_test_out = pd.read_csv(os.path.join(DATASET_FOLDER, 'sample_test_out.csv'))



from utils import download_images
download_images(sample_test['image_link'], '../images')


assert len(os.listdir('../images')) > 0

rm -rf ../images
